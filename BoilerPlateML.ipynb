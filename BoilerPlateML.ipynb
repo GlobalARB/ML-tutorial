{
 "cells": [
  {
   "cell_type": "code",
   "execution_count": 3,
   "id": "aee83c72-d37b-454f-b8cf-57eeac258f76",
   "metadata": {},
   "outputs": [],
   "source": [
    "import numpy as np\n",
    "import pandas as pd\n",
    "import matplotlib.pyplot as plt\n",
    "\n",
    "# import torch\n",
    "# import torch.nn as nn\n",
    "# import torch.optim as optim\n",
    "# from torch.utils.data import Dataset, DataLoader, random_split, TensorDataset\n",
    "\n",
    "import torchvision\n",
    "import torchvision.transforms as transforms\n",
    "from torchsummary import summary\n",
    "from sklearn.metrics import f1_score, confusion_matrix\n",
    "from sklearn.model_selection import train_test_split"
   ]
  },
  {
   "cell_type": "code",
   "execution_count": 4,
   "id": "9839a2ff-fe31-4974-9a22-5582ce5bff19",
   "metadata": {},
   "outputs": [
    {
     "name": "stdout",
     "output_type": "stream",
     "text": [
      "[0 1]\n"
     ]
    }
   ],
   "source": [
    "def manhattan_dist_l1(X, x, k, norm=\"L2\"):\n",
    "    \"\"\"\n",
    "    Calculate the Manhattan (L1) distance from a point x to all points in dataset X,\n",
    "    and find the indices of the k nearest neighbors.\n",
    "\n",
    "    Parameters:\n",
    "    X (array-like): The dataset containing multiple points (shape: [n_samples, n_features]).\n",
    "    x (array-like): The input data point to which distances are calculated (shape: [n_features]).\n",
    "    k (int): The number of nearest neighbors to find.\n",
    "    norm (str): The type of norm to use for distance calculation. Default is \"L2\".\n",
    "\n",
    "    Returns:\n",
    "    nn_indices (array-like): Indices of the k nearest neighbors in the dataset.\n",
    "    \"\"\"\n",
    "    if norm == \"L1\":\n",
    "        # Calculate the absolute differences between x and each point in the dataset\n",
    "        differences = np.abs(X - x)\n",
    "        \n",
    "        # Sum the absolute differences along axis 1 to get L1 (Manhattan) distances\n",
    "        l1_distances = differences.sum(axis=1)\n",
    "        \n",
    "        # Find the indices of the k smallest distances\n",
    "        nn_indices = np.argpartition(l1_distances, k)[:k]\n",
    "        \n",
    "        return nn_indices\n",
    "    else:\n",
    "        # Placeholder for L2 or other norm calculations\n",
    "        pass\n",
    "\n",
    "# Example usage\n",
    "X = np.array([[1, 2], [3, 4], [5, 6]])\n",
    "x = np.array([2, 3])\n",
    "k = 2\n",
    "nearest_neighbors_indices = manhattan_dist_l1(X, x, k, norm=\"L1\")\n",
    "print(nearest_neighbors_indices)"
   ]
  },
  {
   "cell_type": "code",
   "execution_count": 5,
   "id": "2b7b1468-64af-4982-a28d-82fc4b7a41ae",
   "metadata": {},
   "outputs": [],
   "source": [
    "#Data SPlitting\n",
    "class KNNClassifier:\n",
    "    def __init__(self, data, labels, split=0.8):\n",
    "        print('Importing Data')\n",
    "        self.split = split\n",
    "\n",
    "        #Randomizing the data and labes\n",
    "        indices = np.random.permutation(data.shape[0])\n",
    "        data = data[indices]\n",
    "        labels = labels[indices]\n",
    "\n",
    "        #Splitting data into training and testing sets\n",
    "        self.X = data[0:int(data.shape[0] * self.split)]\n",
    "        self.Y = labels[0:int(data.shape[0] * self.split)]\n",
    "        self.test_X = data[int(data.shape[0] * self.split):]\n",
    "        self.test_Y = labels[int(data.shape[0] * self.split):]\n",
    "        \n",
    "        # Printing shapes of the splits\n",
    "        print(f\"Training data shape: {self.X.shape}, Training labels shape: {self.Y.shape}\")\n",
    "        print(f\"Test data shape: {self.test_X.shape}, Test labels shape: {self.test_Y.shape}\")"
   ]
  },
  {
   "cell_type": "code",
   "execution_count": null,
   "id": "9de19240-232b-494c-b744-f49b368ff7b1",
   "metadata": {},
   "outputs": [],
   "source": []
  }
 ],
 "metadata": {
  "kernelspec": {
   "display_name": "Python 3 (ipykernel)",
   "language": "python",
   "name": "python3"
  },
  "language_info": {
   "codemirror_mode": {
    "name": "ipython",
    "version": 3
   },
   "file_extension": ".py",
   "mimetype": "text/x-python",
   "name": "python",
   "nbconvert_exporter": "python",
   "pygments_lexer": "ipython3",
   "version": "3.11.5"
  }
 },
 "nbformat": 4,
 "nbformat_minor": 5
}
