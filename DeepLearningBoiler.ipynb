{
 "cells": [
  {
   "cell_type": "code",
   "execution_count": 1,
   "id": "4de90acf-86e4-4f6d-a89c-93626e616fbe",
   "metadata": {},
   "outputs": [],
   "source": [
    "import numpy as np\n",
    "import torch"
   ]
  },
  {
   "cell_type": "code",
   "execution_count": 4,
   "id": "89e8f3e5-6a03-44e1-9c0e-09b0f9532c2c",
   "metadata": {},
   "outputs": [
    {
     "name": "stdout",
     "output_type": "stream",
     "text": [
      "torch.Size([1, 32, 1, 1, 64])\n",
      "torch.Size([32, 64])\n"
     ]
    }
   ],
   "source": [
    "t = torch.zeros(1, 32, 1, 1, 64)\n",
    "print(t.shape)\n",
    "print(t.squeeze().shape) #Removes unecessary wrapper dimensions"
   ]
  },
  {
   "cell_type": "code",
   "execution_count": 5,
   "id": "9ebe4cab-5008-40f0-a48b-4eed7f786cc9",
   "metadata": {},
   "outputs": [
    {
     "name": "stdout",
     "output_type": "stream",
     "text": [
      "torch.Size([32, 64])\n",
      "torch.Size([1, 32, 64])\n"
     ]
    }
   ],
   "source": [
    "t = torch.zeros(32, 64)\n",
    "print(t.shape)\n",
    "print(t.unsqueeze(0).shape) #Removes unecessary wrapper dimensions"
   ]
  },
  {
   "cell_type": "code",
   "execution_count": 6,
   "id": "cda04fb8-2989-4b7e-95c9-abdf1f714218",
   "metadata": {},
   "outputs": [],
   "source": [
    "X_trial = np.random.rand(1000, 10)\n",
    "y_trial = np.random.randint(0, 2, 1000)\n",
    "\n",
    "X"
   ]
  },
  {
   "cell_type": "code",
   "execution_count": null,
   "id": "32c1f9ef-729a-459e-9144-4c06df503df4",
   "metadata": {},
   "outputs": [],
   "source": [
    "test_dataset = Tensor.dataset\n"
   ]
  },
  {
   "cell_type": "code",
   "execution_count": null,
   "id": "0b61518e-757a-4cbf-86b0-a9ea0a6a7ca2",
   "metadata": {},
   "outputs": [],
   "source": [
    "class LeakyReLU(nn.Module):\n",
    "    def __init__(self, negative_slope=0.01):\n",
    "        nn.Linear(input_size, hidden_size, bias=use_bias), "
   ]
  }
 ],
 "metadata": {
  "kernelspec": {
   "display_name": "Python 3 (ipykernel)",
   "language": "python",
   "name": "python3"
  },
  "language_info": {
   "codemirror_mode": {
    "name": "ipython",
    "version": 3
   },
   "file_extension": ".py",
   "mimetype": "text/x-python",
   "name": "python",
   "nbconvert_exporter": "python",
   "pygments_lexer": "ipython3",
   "version": "3.11.7"
  }
 },
 "nbformat": 4,
 "nbformat_minor": 5
}
