{
 "cells": [
  {
   "cell_type": "markdown",
   "metadata": {
    "id": "rJO71ChI8CuT"
   },
   "source": [
    "# PyTorch Deep Learning Tutorial #\n",
    "* Dhruv Srikanth\n",
    "* 27 Feb 2025\n",
    "* Neural Networks & Deep Learning"
   ]
  },
  {
   "cell_type": "markdown",
   "metadata": {
    "id": "6zK6j2gT8Euw"
   },
   "source": [
    "# Code"
   ]
  },
  {
   "cell_type": "markdown",
   "metadata": {
    "id": "Yx_dsaGz8ixB"
   },
   "source": [
    "## Import Statements"
   ]
  },
  {
   "cell_type": "code",
   "execution_count": 12,
   "metadata": {
    "id": "bgl1xJPs8lt5"
   },
   "outputs": [],
   "source": [
    "# !pip install torch\n",
    "import numpy as np\n",
    "import matplotlib.pyplot as plt\n",
    "\n",
    "import torch\n",
    "import torch.nn as nn\n",
    "import torch.optim as optim\n",
    "from torch.utils.data import Dataset, DataLoader, random_split, TensorDataset\n",
    "\n",
    "import torchvision\n",
    "import torchvision.transforms as transforms\n",
    "from torchsummary import summary\n",
    "from sklearn.metrics import f1_score, confusion_matrix\n",
    "from sklearn.model_selection import train_test_split"
   ]
  },
  {
   "cell_type": "markdown",
   "metadata": {
    "id": "qXj_ltfQ8l3w"
   },
   "source": [
    "## Load Dataset and Cast to Tensor"
   ]
  },
  {
   "cell_type": "code",
   "execution_count": 13,
   "metadata": {
    "id": "Wv8X8u1t8mCR"
   },
   "outputs": [],
   "source": [
    "num_samples = 1000\n",
    "input_size = 10\n",
    "\n",
    "x_data_np = np.random.randn(num_samples, input_size).astype(np.float32)  # Features\n",
    "y_data_np = np.random.randint(0, 2, num_samples).astype(np.int64)  # Binary labels (0 or 1)\n",
    "\n",
    "# Convert to PyTorch tensors\n",
    "x_data = torch.tensor(x_data_np, dtype=torch.float32)\n",
    "y_data = torch.tensor(y_data_np, dtype=torch.long)\n",
    "\n"
   ]
  },
  {
   "cell_type": "code",
   "execution_count": 14,
   "metadata": {
    "colab": {
     "base_uri": "https://localhost:8080/"
    },
    "id": "AGadoGeOHvqT",
    "outputId": "72e79521-1ea3-49b8-a452-5f6b9c6a54f6"
   },
   "outputs": [
    {
     "name": "stdout",
     "output_type": "stream",
     "text": [
      "=== Data Debugging ===\n",
      "x_data shape: torch.Size([1000, 10]), dtype: torch.float32\n",
      "y_data shape: torch.Size([1000]), dtype: torch.int64\n",
      "x_data sample (first 2 rows): \n",
      "tensor([[-0.4959,  0.9934,  0.7557,  0.2844,  0.2007,  0.5996,  0.9399,  0.8731,\n",
      "          0.4411, -1.2655],\n",
      "        [ 0.1174, -1.3209,  0.9294, -0.9255, -2.4103, -0.0497, -0.1758,  0.3170,\n",
      "          1.6929,  0.1250]])\n",
      "y_data sample (first 5): tensor([0, 0, 0, 0, 1])\n",
      "Label distribution: [511 489]\n",
      "(1000, 10) torch.Size([1000, 10])\n"
     ]
    }
   ],
   "source": [
    "# Debugging: Data checks\n",
    "print(\"=== Data Debugging ===\")\n",
    "print(f\"x_data shape: {x_data.shape}, dtype: {x_data.dtype}\")\n",
    "print(f\"y_data shape: {y_data.shape}, dtype: {y_data.dtype}\")\n",
    "print(f\"x_data sample (first 2 rows): \\n{x_data[:2]}\")\n",
    "print(f\"y_data sample (first 5): {y_data[:5]}\")\n",
    "print(f\"Label distribution: {np.bincount(y_data_np)}\")\n",
    "print(x_data_np.shape, x_data.shape)"
   ]
  },
  {
   "cell_type": "code",
   "execution_count": 15,
   "metadata": {
    "colab": {
     "base_uri": "https://localhost:8080/"
    },
    "id": "s7c2FI4_okZL",
    "outputId": "d4b9b91d-966d-408c-a183-25c54a9a55eb"
   },
   "outputs": [
    {
     "name": "stdout",
     "output_type": "stream",
     "text": [
      "torch.Size([1, 32, 1, 1, 64])\n",
      "torch.Size([32, 64])\n"
     ]
    }
   ],
   "source": [
    "t = torch.zeros(1, 32, 1, 1, 64) #Gen new Tensor\n",
    "print(t.shape) \n",
    "print(t.squeeze().shape) #Collapse unecessary dimensions of size `1, "
   ]
  },
  {
   "cell_type": "code",
   "execution_count": 16,
   "metadata": {
    "colab": {
     "base_uri": "https://localhost:8080/"
    },
    "id": "t67bv7Yco8dN",
    "outputId": "a7e641c9-2a42-4e0e-da10-e5f96465058c"
   },
   "outputs": [
    {
     "name": "stdout",
     "output_type": "stream",
     "text": [
      "torch.Size([32, 64])\n",
      "torch.Size([1, 32, 64])\n"
     ]
    }
   ],
   "source": [
    "t = torch.zeros(32, 64)\n",
    "print(t.shape)\n",
    "print(t.unsqueeze(0).shape) #Adds new dimension of size 1 in specified position"
   ]
  },
  {
   "cell_type": "markdown",
   "metadata": {
    "id": "zTmQFdkm8mNZ"
   },
   "source": [
    "## Define Custom Dataset"
   ]
  },
  {
   "cell_type": "code",
   "execution_count": 17,
   "metadata": {
    "id": "f8AsTAaW83wi"
   },
   "outputs": [],
   "source": [
    "class CustomDataset(Dataset):\n",
    "    def __init__(self, x, y):\n",
    "        self.x = (x - x.mean(dim=0)) / x.std(dim=0)  # Transformation, feature-wise standardization\n",
    "        self.y = y.float()\n",
    "\n",
    "    def __len__(self):\n",
    "        return len(self.x)\n",
    "\n",
    "    def __getitem__(self, idx):\n",
    "        return self.x[idx], self.y[idx] # Return features and label at index 'idx' as a tuple"
   ]
  },
  {
   "cell_type": "code",
   "execution_count": 18,
   "metadata": {
    "id": "noQyt5_n87VM"
   },
   "outputs": [],
   "source": [
    "dataset = CustomDataset(x_data, y_data)\n",
    "train_size = int(0.7 * num_samples) #Calculate training set size, 70% of total\n",
    "val_size = int(0.15 * num_samples)  #Calculate validation set size, 15% of total\n",
    "test_size = num_samples - train_size - val_size #Calculate test set size, 15% of total\n",
    "\n",
    "# Split dataset into train, val, test subsets randomly using random_split from torch.utils.data\n",
    "train_dataset, val_dataset, test_dataset = random_split(dataset, [train_size, val_size, test_size]) \n",
    "\n",
    "train_loader = DataLoader(train_dataset, batch_size=32, shuffle=True) #Shuffle to prevent arbitrary pattern memorization \n",
    "val_loader = DataLoader(val_dataset, batch_size=32, shuffle=False) #Do not shuffle to ensure reproducible results\n",
    "test_loader = DataLoader(test_dataset, batch_size=32, shuffle=False) #Do not shuffle to ensure reproducible results\n"
   ]
  },
  {
   "cell_type": "markdown",
   "metadata": {},
   "source": [
    "A test set and a validation set serve different purposes in machine learning:\n",
    "* Test set: Used only once at the end to evaluate the final model's performance on unseen data. It provides an unbiased estimate of how well your model will perform in production.\n",
    "* Validation set: Used repeatedly during model development to tune hyperparameters, select features, or compare different models. It helps prevent overfitting to the training data without contaminating your final test results.\n",
    "\n",
    "\n",
    "A DataLoader in PyTorch is a powerful utility that streamlines data handling by taking delivering a dataset in manageable batches, such as 32 samples at a time, as an iterable object, eliminating the need for manual indexing or batching; it offers features like shuffling to randomize sample order for better training, batching to group data for efficient processing, and optional parallelism to load data faster using multiple workers, making it ideal for feeding large datasets into a model during training or evaluation, as seen with your train_loader, val_loader, and test_loader, which you’d loop over in a training cycle.\n",
    "\n",
    "We shuffle only the training data (train_loader) and not the validation (val_loader) or test (test_loader) data because shuffling helps the model learn better during training by preventing it from memorizing the order of samples, which could lead to overfitting or biased gradient updates, especially if the data has some unintended sequence (e.g., all positives first); for validation and testing, we keep the order fixed to ensure consistent, reproducible evaluation metrics—like accuracy or loss—since these phases are about assessing performance, not learning, and shuffling there could obscure how the model generalizes to a stable dataset."
   ]
  },
  {
   "cell_type": "code",
   "execution_count": 19,
   "metadata": {
    "colab": {
     "base_uri": "https://localhost:8080/"
    },
    "id": "Dpc-OZHTiQ7b",
    "outputId": "4a7084c1-2f59-4a4d-c692-085c1fee5c15"
   },
   "outputs": [
    {
     "name": "stdout",
     "output_type": "stream",
     "text": [
      "Data batch shape: torch.Size([32, 10])\n",
      "Label batch shape: torch.Size([32])\n"
     ]
    }
   ],
   "source": [
    "for x, y in train_loader:\n",
    "    print(f\"Data batch shape: {x.shape}\")   # (batch_size, channels, height, width)\n",
    "    print(f\"Label batch shape: {y.shape}\")   # (batch_size,)\n",
    "    break"
   ]
  },
  {
   "cell_type": "code",
   "execution_count": 21,
   "metadata": {
    "colab": {
     "base_uri": "https://localhost:8080/"
    },
    "id": "8hRHQV5zqIY6",
    "outputId": "082080ff-94ca-4b67-87ba-804051e82769"
   },
   "outputs": [
    {
     "name": "stdout",
     "output_type": "stream",
     "text": [
      "torch.Size([800, 10]) torch.Size([800])\n"
     ]
    }
   ],
   "source": [
    "# Create synthetic data\n",
    "X_trial = np.random.rand(1000, 10)  # 1000 samples, 10 features\n",
    "y_trial = np.random.randint(0, 2, 1000)  # Binary labels\n",
    "\n",
    "# Split into train and test sets (80% train, 20% test)\n",
    "X_train1, X_test1, y_train1, y_test1 = train_test_split(X_trial, y_trial, test_size=0.2, random_state=42)\n",
    "\n",
    "X_train_tensor1 = torch.tensor(X_train1, dtype=torch.float32)\n",
    "y_train_tensor1 = torch.tensor(y_train1, dtype=torch.long)\n",
    "\n",
    "print(X_train_tensor1.shape, y_train_tensor1.shape)"
   ]
  },
  {
   "cell_type": "markdown",
   "metadata": {
    "id": "n2sxEfDAqx0r"
   },
   "source": [
    "### TensorDataset"
   ]
  },
  {
   "cell_type": "code",
   "execution_count": 20,
   "metadata": {
    "colab": {
     "base_uri": "https://localhost:8080/"
    },
    "id": "NrGFWd8aqyAf",
    "outputId": "466d0bb3-ade8-40fb-ffa0-e9a4e9849ff0"
   },
   "outputs": [
    {
     "name": "stdout",
     "output_type": "stream",
     "text": [
      "<torch.utils.data.dataset.TensorDataset object at 0x330799150>\n"
     ]
    }
   ],
   "source": [
    "test_dataset = TensorDataset(x_data, y_data)\n",
    "print(test_dataset)"
   ]
  },
  {
   "cell_type": "markdown",
   "metadata": {
    "id": "VY3CsmWoOSae"
   },
   "source": [
    "### Existing Dataset"
   ]
  },
  {
   "cell_type": "code",
   "execution_count": 22,
   "metadata": {
    "colab": {
     "base_uri": "https://localhost:8080/"
    },
    "id": "1zHpK6eXOSmk",
    "outputId": "482386ac-7250-47d0-cab6-2002f70112a2"
   },
   "outputs": [
    {
     "name": "stdout",
     "output_type": "stream",
     "text": [
      "Downloading https://www.cs.toronto.edu/~kriz/cifar-10-python.tar.gz to ./data/cifar-10-python.tar.gz\n"
     ]
    },
    {
     "name": "stderr",
     "output_type": "stream",
     "text": [
      "100%|████████████████████████████████████████████████████████████████████████████████████████████| 170498071/170498071 [00:04<00:00, 36230302.59it/s]\n"
     ]
    },
    {
     "name": "stdout",
     "output_type": "stream",
     "text": [
      "Extracting ./data/cifar-10-python.tar.gz to ./data\n",
      "Files already downloaded and verified\n"
     ]
    }
   ],
   "source": [
    "#Creates a pipeline of image transformations that converts images to PyTorch tensors\n",
    "# Normalizes pixel values from [0,1] to [-1,1] by subtracting 0.5 and dividing by 0.5 for each RGB channel\n",
    "transform = transforms.Compose([\n",
    "    transforms.ToTensor(),  # Convert to tensor\n",
    "    transforms.Normalize(mean=[0.5, 0.5, 0.5], std=[0.5, 0.5, 0.5])  # Normalize to [-1, 1]\n",
    "])\n",
    "\n",
    "# Loads the CIFAR-10 training dataset with parameters:\n",
    "train_dataset_CIFAR10 = torchvision.datasets.CIFAR10(root='./data', train=True, transform=transform, download=True) \n",
    "test_dataset_CIFAR10 = torchvision.datasets.CIFAR10(root='./data', train=False, transform=transform, download=True)\n",
    "reates a data loader for the training dataset that:\n",
    "\n",
    "#Loads data in batches of 64 images, Shuffles the data for better training, Uses 2 worker processes for loading data in parallel\n",
    "train_loader_CIFAR10 = DataLoader(train_dataset_CIFAR10, batch_size=64, shuffle=True, num_workers=2)\n",
    "test_loader_CIFAR10 = DataLoader(test_dataset_CIFAR10, batch_size=64, shuffle=False, num_workers=2)"
   ]
  },
  {
   "cell_type": "markdown",
   "metadata": {
    "id": "QJxWOaAE8372"
   },
   "source": [
    "## Define Your Model"
   ]
  },
  {
   "cell_type": "code",
   "execution_count": 24,
   "metadata": {
    "id": "rDYeJza284Ol"
   },
   "outputs": [],
   "source": [
    "class MLP(nn.Module): #Define Multi-Layer Perceptron inheriting from nn.Module\n",
    "    def __init__(self, input_size, hidden_size, output_size, use_bias=True):\n",
    "        super(MLP, self).__init__() #Initalize parent class nn.Module\n",
    "        self.fc1 = nn.Linear(input_size, hidden_size, bias=use_bias) # First Fully Connected Layer \n",
    "        self.relu = nn.ReLU() #ReLU as activation\n",
    "        self.dropout = nn.Dropout(p=0.5) #Dropout layer w p=1/2 to prevent overfitting\n",
    "        self.fc2 = nn.Linear(hidden_size, output_size, bias=use_bias) # Second Fully Connected Layer\n",
    "        self.sigmoid = nn.Sigmoid()  # Apply sigmoid for binary classification\n",
    "\n",
    "    def forward(self, x): #Define the forward pass\n",
    "        x = self.fc1(x) #Pass input through first layer\n",
    "        x = self.relu(x) # Apply Activation \n",
    "        x = self.dropout(x) #Apply dropout\n",
    "        x = self.fc2(x) #Pass through second layer\n",
    "        x = self.sigmoid(x)  # Sigmoid for probability output\n",
    "        return x"
   ]
  },
  {
   "cell_type": "markdown",
   "metadata": {
    "id": "fzqsMZlc4Jwl"
   },
   "source": [
    "### LeakyReLU Implementation"
   ]
  },
  {
   "cell_type": "code",
   "execution_count": 25,
   "metadata": {
    "colab": {
     "base_uri": "https://localhost:8080/"
    },
    "id": "kyZr-AfY4J9H",
    "outputId": "fd46de3d-b685-4d6a-c37c-a72df07b6e51"
   },
   "outputs": [
    {
     "name": "stdout",
     "output_type": "stream",
     "text": [
      "tensor([-0.0200, -0.0100,  0.0000,  1.0000,  2.0000])\n",
      "tensor([-0.0200, -0.0100,  0.0000,  1.0000,  2.0000])\n"
     ]
    }
   ],
   "source": [
    "class LeakyReLU(nn.Module):\n",
    "    def __init__(self, negative_slope=0.01):\n",
    "        super(LeakyReLU, self).__init__() #Inherit \n",
    "        self.negative_slope = negative_slope\n",
    "\n",
    "    def forward(self, x):\n",
    "        return torch.where(x > 0, x, self.negative_slope * x) # torch.where is differentiable so no need for autograd Function\n",
    "        # In cases where the forward function is differentiable, autograd will compute backward itself. \n",
    "        # But you can define gradient calculation in backward yourself!\n",
    "\n",
    "x1 = torch.tensor([-2.0, -1.0, 0.0, 1.0, 2.0])\n",
    "activation = LeakyReLU()\n",
    "activ2 = nn.LeakyReLU(0.01)\n",
    "output = activation(x1)\n",
    "print(output)\n",
    "print(activ2(x1))"
   ]
  },
  {
   "cell_type": "code",
   "execution_count": 14,
   "metadata": {
    "colab": {
     "base_uri": "https://localhost:8080/"
    },
    "id": "SBEPNkx0D0Mk",
    "outputId": "a255863b-c365-4330-e063-0f75233ad8b2"
   },
   "outputs": [
    {
     "name": "stdout",
     "output_type": "stream",
     "text": [
      "tensor([-0.2000, -0.1000,  0.0000,  1.0000,  2.0000])\n"
     ]
    }
   ],
   "source": [
    "class CustomLeakyReLUManual:\n",
    "    def __init__(self, negative_slope=0.01):\n",
    "        self.negative_slope = negative_slope\n",
    "        self.saved_input = None\n",
    "\n",
    "    def forward(self, x):\n",
    "        self.saved_input = x\n",
    "        # Compute: f(x) = x if x > 0 else negative_slope * x\n",
    "        mask = (x > 0).float()  # Create binary mask: 1 for positive values, 0 for non-positive\n",
    "        output = mask * x + (1 - mask) * self.negative_slope * x  # Element-wise implementation of Leaky ReLU\n",
    "        return output\n",
    "\n",
    "    def __call__(self, x):\n",
    "        return self.forward(x)\n",
    "\n",
    "    def backward(self, grad_output):\n",
    "        # The derivative is 1 for x > 0 and negative_slope for x <= 0.\n",
    "        mask = (self.saved_input > 0).float()\n",
    "        grad_input_factor = mask + (1 - mask) * self.negative_slope\n",
    "        grad_input = grad_output * grad_input_factor\n",
    "        return grad_input\n",
    "\n",
    "activation = CustomLeakyReLUManual(negative_slope=0.1)\n",
    "print(activation(x1))"
   ]
  },
  {
   "cell_type": "markdown",
   "metadata": {
    "id": "ZNE8YL37JyHT"
   },
   "source": [
    "### Sequential Example"
   ]
  },
  {
   "cell_type": "code",
   "execution_count": 33,
   "metadata": {
    "id": "6EPXBGkGJxlE"
   },
   "outputs": [],
   "source": [
    "class MLP2(nn.Module):\n",
    "    def __init__(self, input_size, hidden_size, output_size, use_bias=True, dropout_prob=0.5):\n",
    "        super(MLP2, self).__init__()  # Initialize the parent class (nn.Module)\n",
    "        self.fc1 = nn.Sequential(  # First layer group as a Sequential container\n",
    "            nn.Linear(input_size, hidden_size, bias=use_bias),  # Linear transformation from input to hidden layer\n",
    "            LeakyReLU(),  # LeakyReLU activation instead of ReLU for better gradient flow with negative values\n",
    "            nn.Dropout(p=dropout_prob)  # Dropout with configurable probability to prevent overfitting\n",
    "        )\n",
    "        self.fc2 = nn.Sequential(  # Second layer group as a Sequential container\n",
    "            nn.Linear(hidden_size, output_size, bias=use_bias),  # Linear transformation from hidden to output\n",
    "            nn.Sigmoid()  # Sigmoid for binary classification\n",
    "        )\n",
    "\n",
    "    def forward(self, x):  # Define the forward pass of the network\n",
    "        x = self.fc1(x)  # Pass input through first Sequential block (Linear -> LeakyReLU -> Dropout)\n",
    "        x = self.fc2(x)  # Pass through second Sequential block (Linear -> Sigmoid)\n",
    "        return x  # Return the final output"
   ]
  },
  {
   "cell_type": "markdown",
   "metadata": {},
   "source": [
    "This MLP2 class implements a streamlined two-layer neural network for binary classification. The architecture leverages PyTorch's nn.Sequential containers to group related operations (linear transformation, activation, and regularization) into logical blocks, improving code readability and maintainability. \n",
    "\n",
    "The first layer block uses LeakyReLU activation to prevent the \"dying neuron\" problem that can occur with standard ReLU, especially during early training. There's no activation function after the final layer's linear transformation except for the Sigmoid because the goal is to produce probability outputs between 0 and 1 for binary classification—adding ReLU here would disrupt this probability interpretation by zeroing out negative values. \n",
    "\n",
    "To extend this architecture for deeper networks, additional Sequential blocks could be inserted between fc1 and fc2, maintaining the same pattern of Linear → Activation → Dropout for each hidden layer, while keeping only the Sigmoid at the very end. For multi-class classification, the Sigmoid would be replaced with Softmax. The Sequential container simplifies the forward method by automatically applying each operation in order, eliminating the need to call each layer explicitly."
   ]
  },
  {
   "cell_type": "markdown",
   "metadata": {
    "id": "W_KdUiPl84gg"
   },
   "source": [
    "## Define your Hyperparameters, Model Instance, Loss Function, Optimizer"
   ]
  },
  {
   "cell_type": "code",
   "execution_count": 28,
   "metadata": {
    "id": "GLkx9QeT84yl"
   },
   "outputs": [],
   "source": [
    "model = MLP(input_size, hidden_size=32, output_size=1, use_bias=True)  # Create MLP model with 32 hidden neurons and single output for binary classification\n",
    "criterion = nn.BCELoss()  # Binary Cross Entropy Loss for comparing predicted probabilities to binary target values\n",
    "optimizer = optim.Adam(model.parameters(), lr=0.01)  # Adam optimizer with 0.01 learning rate to update model weights during training"
   ]
  },
  {
   "cell_type": "code",
   "execution_count": 27,
   "metadata": {
    "id": "UDVxu5Q39E8C"
   },
   "outputs": [],
   "source": [
    "num_epochs = 20  # Set training to run for 20 complete passes through the dataset\n",
    "best_val_loss = float('inf')  # Initialize best validation loss to infinity to track improvement during training\n",
    "best_model_path = \"best_model.pth\"  # File path where the best performing model weights will be saved"
   ]
  },
  {
   "cell_type": "markdown",
   "metadata": {
    "id": "i2Q9mPHVzAZX"
   },
   "source": [
    "### Attributes"
   ]
  },
  {
   "cell_type": "code",
   "execution_count": 29,
   "metadata": {
    "colab": {
     "base_uri": "https://localhost:8080/"
    },
    "id": "LEXgsiiwy_Dx",
    "outputId": "3103f661-7287-4354-8761-4fefa20014ce"
   },
   "outputs": [
    {
     "name": "stdout",
     "output_type": "stream",
     "text": [
      "{'': MLP(\n",
      "  (fc1): Linear(in_features=10, out_features=32, bias=True)\n",
      "  (relu): ReLU()\n",
      "  (dropout): Dropout(p=0.5, inplace=False)\n",
      "  (fc2): Linear(in_features=32, out_features=1, bias=True)\n",
      "  (sigmoid): Sigmoid()\n",
      "), 'fc1': Linear(in_features=10, out_features=32, bias=True), 'relu': ReLU(), 'dropout': Dropout(p=0.5, inplace=False), 'fc2': Linear(in_features=32, out_features=1, bias=True), 'sigmoid': Sigmoid()}\n",
      "MLP(\n",
      "  (fc1): Linear(in_features=10, out_features=32, bias=True)\n",
      "  (relu): ReLU()\n",
      "  (dropout): Dropout(p=0.5, inplace=False)\n",
      "  (fc2): Linear(in_features=32, out_features=1, bias=True)\n",
      "  (sigmoid): Sigmoid()\n",
      ")\n",
      "----------------------------------------------------------------\n",
      "        Layer (type)               Output Shape         Param #\n",
      "================================================================\n",
      "            Linear-1                   [-1, 32]             352\n",
      "              ReLU-2                   [-1, 32]               0\n",
      "           Dropout-3                   [-1, 32]               0\n",
      "            Linear-4                    [-1, 1]              33\n",
      "           Sigmoid-5                    [-1, 1]               0\n",
      "================================================================\n",
      "Total params: 385\n",
      "Trainable params: 385\n",
      "Non-trainable params: 0\n",
      "----------------------------------------------------------------\n",
      "Input size (MB): 0.00\n",
      "Forward/backward pass size (MB): 0.00\n",
      "Params size (MB): 0.00\n",
      "Estimated Total Size (MB): 0.00\n",
      "----------------------------------------------------------------\n"
     ]
    }
   ],
   "source": [
    "print(dict(model.named_modules()))\n",
    "print(model)\n",
    "summary(model, input_size=(input_size,))"
   ]
  },
  {
   "cell_type": "code",
   "execution_count": 34,
   "metadata": {
    "id": "kvyP55ZvKvCs"
   },
   "outputs": [],
   "source": [
    "model2 = MLP2(input_size, hidden_size=32, output_size=1, use_bias=True)"
   ]
  },
  {
   "cell_type": "code",
   "execution_count": 35,
   "metadata": {
    "colab": {
     "base_uri": "https://localhost:8080/"
    },
    "id": "wOlmGKkMK5gD",
    "outputId": "2d02e123-8983-464b-d579-a04fcb6b29dc"
   },
   "outputs": [
    {
     "name": "stdout",
     "output_type": "stream",
     "text": [
      "MLP2(\n",
      "  (fc1): Sequential(\n",
      "    (0): Linear(in_features=10, out_features=32, bias=True)\n",
      "    (1): LeakyReLU()\n",
      "    (2): Dropout(p=0.5, inplace=False)\n",
      "  )\n",
      "  (fc2): Sequential(\n",
      "    (0): Linear(in_features=32, out_features=1, bias=True)\n",
      "    (1): Sigmoid()\n",
      "  )\n",
      ")\n"
     ]
    }
   ],
   "source": [
    "print(model2)"
   ]
  },
  {
   "cell_type": "code",
   "execution_count": 36,
   "metadata": {
    "colab": {
     "base_uri": "https://localhost:8080/"
    },
    "id": "s_Ilw1ZuvReI",
    "outputId": "7e047c6a-6aff-481b-d702-efb367932691"
   },
   "outputs": [
    {
     "name": "stdout",
     "output_type": "stream",
     "text": [
      "fc1.weight grad after backward: None\n",
      "fc1.bias grad after backward: None\n",
      "fc2.weight grad after backward: None\n",
      "fc2.bias grad after backward: None\n"
     ]
    }
   ],
   "source": [
    "for name, param in model.named_parameters():\n",
    "    print(f\"{name} grad after backward: {param.grad}\")"
   ]
  },
  {
   "cell_type": "code",
   "execution_count": 37,
   "metadata": {
    "colab": {
     "base_uri": "https://localhost:8080/"
    },
    "id": "93fvmqU8uqnd",
    "outputId": "1d39775d-caa3-4a62-a6fb-f1f39b68bcee"
   },
   "outputs": [
    {
     "name": "stdout",
     "output_type": "stream",
     "text": [
      "{'state': {}, 'param_groups': [{'lr': 0.01, 'betas': (0.9, 0.999), 'eps': 1e-08, 'weight_decay': 0, 'amsgrad': False, 'maximize': False, 'foreach': None, 'capturable': False, 'differentiable': False, 'fused': None, 'params': [0, 1, 2, 3]}]}\n"
     ]
    }
   ],
   "source": [
    "print(optimizer.state_dict())"
   ]
  },
  {
   "cell_type": "code",
   "execution_count": 38,
   "metadata": {
    "colab": {
     "base_uri": "https://localhost:8080/"
    },
    "id": "L02_RERdu4UP",
    "outputId": "346c874b-980b-4434-f930-11348047ce33"
   },
   "outputs": [
    {
     "name": "stdout",
     "output_type": "stream",
     "text": [
      "Learning rate: 0.01\n",
      "Momentum: 0\n"
     ]
    }
   ],
   "source": [
    "for param_group in optimizer.param_groups:\n",
    "    print(f\"Learning rate: {param_group['lr']}\")\n",
    "    print(f\"Momentum: {param_group.get('momentum', 0)}\")  # May not exist if momentum=0"
   ]
  },
  {
   "cell_type": "markdown",
   "metadata": {
    "id": "AQASvMgatul4"
   },
   "source": [
    "### Other"
   ]
  },
  {
   "cell_type": "code",
   "execution_count": 39,
   "metadata": {
    "id": "wSEWNI3ott6D"
   },
   "outputs": [],
   "source": [
    "optimizer2 = optim.SGD(model.parameters(), lr=0.01, momentum=0.9)"
   ]
  },
  {
   "cell_type": "code",
   "execution_count": 40,
   "metadata": {
    "colab": {
     "base_uri": "https://localhost:8080/"
    },
    "id": "s0vk5juXu6g1",
    "outputId": "768d767a-4be5-4023-8e39-e70f73325f41"
   },
   "outputs": [
    {
     "name": "stdout",
     "output_type": "stream",
     "text": [
      "Learning rate: 0.01\n",
      "Momentum: 0.9\n"
     ]
    }
   ],
   "source": [
    "for param_group in optimizer2.param_groups:\n",
    "    print(f\"Learning rate: {param_group['lr']}\")\n",
    "    print(f\"Momentum: {param_group.get('momentum', 0)}\")  # May not exist if momentum=0"
   ]
  },
  {
   "cell_type": "code",
   "execution_count": 41,
   "metadata": {
    "id": "lYRHQE0bxOyZ"
   },
   "outputs": [],
   "source": [
    "optimizer3 = optim.SGD([\n",
    "    {'params': model.fc1.parameters(), 'lr': 0.01},  # First layer\n",
    "    {'params': model.fc2.parameters(), 'lr': 0.001}  # Second layer\n",
    "], momentum=0.9)"
   ]
  },
  {
   "cell_type": "code",
   "execution_count": 42,
   "metadata": {
    "id": "FQRjkS_juVUU"
   },
   "outputs": [],
   "source": [
    "criterion2 = nn.CrossEntropyLoss()"
   ]
  },
  {
   "cell_type": "markdown",
   "metadata": {
    "id": "YL6cZBNI9PC8"
   },
   "source": [
    "## Training Loop (with Validation)"
   ]
  },
  {
   "cell_type": "code",
   "execution_count": 43,
   "metadata": {
    "colab": {
     "base_uri": "https://localhost:8080/"
    },
    "id": "XRzxE9Dp8BJd",
    "outputId": "644bcde0-7c72-4530-e101-372eade0bc44"
   },
   "outputs": [
    {
     "name": "stdout",
     "output_type": "stream",
     "text": [
      "tensor([[-6.0552e-03, -2.5819e-03, -1.0290e-03,  3.5275e-03,  2.8513e-05,\n",
      "          2.2542e-03, -1.1770e-04, -3.7763e-03, -6.9934e-03,  3.1529e-03],\n",
      "        [ 5.6408e-03, -9.4813e-03,  5.7554e-03, -4.6646e-03,  5.3211e-03,\n",
      "          2.9401e-03,  6.0625e-04,  6.3660e-03,  1.7393e-02, -1.3188e-02],\n",
      "        [-2.0303e-03, -8.2473e-03,  4.7185e-03,  6.5037e-03, -1.2722e-02,\n",
      "         -4.9726e-03, -5.7361e-03, -1.3714e-02, -2.1118e-02, -3.4878e-03],\n",
      "        [-5.5206e-03, -4.3736e-03, -4.8126e-03,  1.4298e-02,  8.6906e-03,\n",
      "         -6.4575e-03, -4.1295e-03, -6.2262e-03,  4.7301e-03, -4.4787e-03],\n",
      "        [ 1.2059e-03, -1.6554e-03,  2.8338e-02,  2.0252e-02,  5.6300e-03,\n",
      "          6.6502e-03,  4.7723e-03,  1.8284e-02,  1.8467e-03,  7.6139e-03],\n",
      "        [ 3.9048e-03,  1.5291e-03,  1.5002e-03,  5.7621e-03,  3.9061e-03,\n",
      "         -2.2411e-03, -3.4703e-03,  3.6924e-03,  1.4712e-03,  3.3170e-04],\n",
      "        [-1.6072e-03, -1.7148e-03,  4.1069e-03, -5.0296e-03,  4.1537e-03,\n",
      "          2.6551e-03, -2.9185e-03,  1.4137e-03,  3.2878e-03, -5.1548e-04],\n",
      "        [-1.4664e-03,  8.5391e-04, -3.3708e-03, -1.0255e-03,  5.7434e-04,\n",
      "         -1.6661e-03,  1.5268e-03, -2.1252e-03, -5.9683e-04, -1.6855e-03],\n",
      "        [ 1.4100e-02,  2.1409e-04,  1.5635e-02, -4.8293e-03,  1.9563e-03,\n",
      "         -1.1440e-02, -1.1338e-02,  2.2103e-02,  1.9034e-02, -1.0391e-02],\n",
      "        [ 1.4162e-05,  2.9394e-06,  1.8138e-05,  3.3568e-05, -2.0288e-05,\n",
      "          4.0119e-06,  1.5216e-05,  1.5415e-05,  1.2572e-05,  8.7129e-06],\n",
      "        [-8.2376e-03, -5.4311e-03,  8.6032e-03, -4.9674e-04,  2.6833e-03,\n",
      "          3.1389e-03,  2.4420e-03, -3.1486e-03, -9.8628e-03,  3.1971e-03],\n",
      "        [ 1.5080e-02,  1.1019e-02, -6.4983e-03, -2.9200e-03, -2.5207e-03,\n",
      "         -3.8427e-03, -2.7995e-03,  1.3048e-03,  2.3028e-02, -9.7101e-03],\n",
      "        [ 4.0835e-03,  3.6023e-03, -2.2565e-02,  5.3078e-04, -6.8702e-03,\n",
      "          1.2650e-03, -8.9402e-03, -2.1588e-02, -2.0992e-02, -1.9310e-03],\n",
      "        [ 2.7181e-03, -1.2934e-03,  7.0484e-03, -5.2330e-03, -1.3875e-02,\n",
      "          7.0984e-03,  1.1849e-02,  2.4459e-03, -1.2386e-03,  7.7045e-03],\n",
      "        [ 1.0083e-03,  4.1709e-03, -2.2254e-02,  3.7141e-03, -1.6307e-03,\n",
      "         -7.4142e-03, -7.0889e-04, -2.0492e-02, -6.8054e-03,  4.5023e-03],\n",
      "        [ 1.0629e-02, -9.8201e-03,  4.0869e-02,  8.7335e-03, -9.0236e-03,\n",
      "          6.4700e-03,  1.6223e-02,  1.4608e-02,  1.9344e-02, -2.4446e-02],\n",
      "        [ 7.8634e-04, -7.7153e-04,  2.5811e-03, -3.1723e-04, -1.0667e-03,\n",
      "          3.1810e-04, -4.3063e-04,  1.0827e-03,  1.3776e-03, -2.4003e-03],\n",
      "        [ 4.5284e-03, -1.8679e-03,  1.1644e-02, -3.2193e-03, -2.5935e-03,\n",
      "          3.6946e-03,  1.0482e-02,  9.1492e-04,  3.2885e-03, -1.5063e-03],\n",
      "        [ 7.9893e-03,  3.3861e-03,  1.1976e-03, -9.4068e-03, -2.4951e-03,\n",
      "         -1.5855e-03,  1.9110e-03,  6.4739e-03,  5.1577e-03, -5.7587e-03],\n",
      "        [ 4.4584e-03, -1.4055e-03,  1.7704e-03,  8.7715e-03, -4.4148e-03,\n",
      "          6.3792e-03,  1.4251e-03,  6.8379e-03,  2.2045e-02, -3.5889e-03],\n",
      "        [-2.6228e-02, -1.3853e-02,  7.1257e-03, -1.3743e-02,  1.5032e-02,\n",
      "          1.5182e-02, -2.7689e-03,  5.9564e-03, -1.8816e-02,  1.5810e-02],\n",
      "        [ 4.2390e-03,  7.0517e-03,  6.0150e-04,  4.6120e-03,  2.1396e-03,\n",
      "         -2.6940e-03, -1.1970e-02,  4.1786e-03,  8.5934e-03,  1.3026e-04],\n",
      "        [-2.6604e-02, -1.2148e-02, -1.2446e-02,  4.3938e-03,  1.7068e-02,\n",
      "          1.3178e-02,  9.0438e-04, -4.9855e-03, -1.6511e-02,  9.5510e-03],\n",
      "        [ 9.0369e-03,  2.3851e-03, -1.2238e-02, -1.1736e-02, -1.6715e-02,\n",
      "          7.4857e-03,  8.0716e-03,  2.7885e-03, -2.1161e-04,  3.0531e-03],\n",
      "        [-2.5552e-05,  3.4935e-05, -5.3049e-05, -2.2807e-06,  6.5150e-05,\n",
      "         -2.8032e-05,  3.5965e-08, -3.5517e-05, -4.1292e-05,  4.3646e-05],\n",
      "        [-2.9059e-04, -8.9689e-05, -2.9994e-04, -2.5136e-04,  2.0076e-04,\n",
      "         -1.1990e-04, -6.1010e-05, -1.9339e-04,  1.6470e-05,  1.6040e-04],\n",
      "        [-4.6010e-06,  9.2018e-05, -2.0429e-04, -1.5865e-04,  4.4445e-05,\n",
      "         -1.5186e-04, -1.3510e-04, -1.5292e-04,  1.1888e-04, -2.8928e-05],\n",
      "        [-6.2813e-03, -9.5784e-03, -2.1530e-04,  5.5442e-03,  2.2739e-03,\n",
      "         -2.7381e-03,  6.9821e-03, -1.4781e-03, -4.4076e-05, -5.5396e-03],\n",
      "        [ 1.6625e-02,  1.0850e-02,  3.5934e-03,  4.8003e-04, -1.2507e-02,\n",
      "         -2.7374e-03, -6.4246e-03,  8.8935e-03,  5.4626e-03, -1.4611e-02],\n",
      "        [-4.8367e-04, -3.4797e-04,  4.9752e-04, -2.2093e-04,  1.4852e-04,\n",
      "          3.4629e-04, -2.6126e-04, -5.5255e-04, -3.9463e-04,  1.9623e-04],\n",
      "        [ 2.1216e-02, -7.3216e-03,  1.1697e-03, -4.4040e-03, -1.5953e-02,\n",
      "         -1.4921e-03,  1.1557e-02,  3.8408e-03,  6.0014e-03, -1.5581e-02],\n",
      "        [ 8.5515e-03,  2.8751e-03, -4.9545e-03,  1.8000e-03,  8.5810e-04,\n",
      "         -9.0152e-05, -6.6731e-03,  7.6466e-03,  1.6604e-02,  4.0132e-03]])\n",
      "Epoch [1/20], New Best Val Loss: 0.7019 (Model Saved)\n",
      "Epoch [2/20], New Best Val Loss: 0.7015 (Model Saved)\n",
      "Epoch [3/20], New Best Val Loss: 0.6994 (Model Saved)\n",
      "Epoch [4/20], New Best Val Loss: 0.6993 (Model Saved)\n",
      "Epoch [5/20], Train Loss: 0.6863, Val Loss: 0.7026\n",
      "Epoch [6/20], Train Loss: 0.6877, Val Loss: 0.7082\n",
      "Epoch [7/20], Train Loss: 0.6814, Val Loss: 0.7006\n",
      "Epoch [8/20], Train Loss: 0.6769, Val Loss: 0.7026\n",
      "Epoch [9/20], Train Loss: 0.6703, Val Loss: 0.7104\n",
      "Epoch [10/20], Train Loss: 0.6753, Val Loss: 0.7086\n",
      "Epoch [11/20], Train Loss: 0.6740, Val Loss: 0.7085\n",
      "Epoch [12/20], Train Loss: 0.6605, Val Loss: 0.7115\n",
      "Epoch [13/20], Train Loss: 0.6790, Val Loss: 0.7128\n",
      "Epoch [14/20], Train Loss: 0.6684, Val Loss: 0.7087\n",
      "Epoch [15/20], Train Loss: 0.6734, Val Loss: 0.7036\n",
      "Epoch [16/20], Train Loss: 0.6624, Val Loss: 0.7037\n",
      "Epoch [17/20], Train Loss: 0.6761, Val Loss: 0.7105\n",
      "Epoch [18/20], Train Loss: 0.6644, Val Loss: 0.7144\n",
      "Epoch [19/20], Train Loss: 0.6763, Val Loss: 0.7124\n",
      "Epoch [20/20], Train Loss: 0.6641, Val Loss: 0.7157\n"
     ]
    }
   ],
   "source": [
    "for epoch in range(num_epochs):\n",
    "    model.train()\n",
    "    train_loss = 0.0\n",
    "    for inputs, targets in train_loader:\n",
    "        optimizer.zero_grad()\n",
    "        outputs = model(inputs).squeeze()\n",
    "        loss = criterion(outputs, targets.float())\n",
    "        loss.backward()\n",
    "        optimizer.step()\n",
    "        train_loss += loss.item()\n",
    "\n",
    "    train_loss /= len(train_loader)\n",
    "    if epoch == 0:\n",
    "      print(model.fc1.weight.grad)\n",
    "\n",
    "    # Validation phase\n",
    "    model.eval()\n",
    "    val_loss = 0.0\n",
    "    with torch.no_grad():\n",
    "        for inputs, targets in val_loader:\n",
    "            outputs = model(inputs).squeeze()\n",
    "            loss = criterion(outputs, targets.float())\n",
    "            val_loss += loss.item()\n",
    "\n",
    "    val_loss /= len(val_loader)\n",
    "\n",
    "    # Save model if it has the best validation loss\n",
    "    if val_loss < best_val_loss:\n",
    "        best_val_loss = val_loss\n",
    "        torch.save(model.state_dict(), best_model_path)\n",
    "        print(f\"Epoch [{epoch+1}/{num_epochs}], New Best Val Loss: {val_loss:.4f} (Model Saved)\")\n",
    "\n",
    "    else:\n",
    "        print(f\"Epoch [{epoch+1}/{num_epochs}], Train Loss: {train_loss:.4f}, Val Loss: {val_loss:.4f}\")"
   ]
  },
  {
   "cell_type": "markdown",
   "metadata": {
    "id": "h7UsWru0EdDY"
   },
   "source": [
    "### On GPU"
   ]
  },
  {
   "cell_type": "code",
   "execution_count": 44,
   "metadata": {
    "id": "KV_zQwS-Expd"
   },
   "outputs": [],
   "source": [
    "model2 = MLP2(input_size, hidden_size=32, output_size=1, use_bias=True)\n",
    "criterion = nn.BCELoss()  # Binary Cross Entropy Loss\n",
    "optimizer = optim.Adam(model2.parameters(), lr=0.01)\n",
    "\n",
    "num_epochs = 20\n",
    "best_val_loss2 = float('inf')\n",
    "best_model_path2 = \"best_model2.pth\""
   ]
  },
  {
   "cell_type": "code",
   "execution_count": 47,
   "metadata": {
    "colab": {
     "base_uri": "https://localhost:8080/"
    },
    "id": "AklO6RNHEbZL",
    "outputId": "086df2b2-accc-4fbd-812f-e6a9547e1888"
   },
   "outputs": [
    {
     "name": "stdout",
     "output_type": "stream",
     "text": [
      "cpu\n"
     ]
    }
   ],
   "source": [
    "device = torch.device(\"cuda\" if torch.cuda.is_available() else \"cpu\")\n",
    "print(device)"
   ]
  },
  {
   "cell_type": "code",
   "execution_count": 31,
   "metadata": {
    "colab": {
     "base_uri": "https://localhost:8080/"
    },
    "id": "k36wcmS_EcY6",
    "outputId": "129c5680-67a8-401e-98dd-a1f5509d2cec"
   },
   "outputs": [
    {
     "name": "stdout",
     "output_type": "stream",
     "text": [
      "Epoch [1/20], New Best Val Loss: 0.6844 (Model Saved)\n",
      "Epoch [2/20], New Best Val Loss: 0.6831 (Model Saved)\n",
      "Epoch [3/20], Train Loss: 0.6802, Val Loss: 0.6918\n",
      "Epoch [4/20], Train Loss: 0.6867, Val Loss: 0.6946\n",
      "Epoch [5/20], Train Loss: 0.6805, Val Loss: 0.6950\n",
      "Epoch [6/20], Train Loss: 0.6842, Val Loss: 0.6947\n",
      "Epoch [7/20], Train Loss: 0.6820, Val Loss: 0.6970\n",
      "Epoch [8/20], Train Loss: 0.6714, Val Loss: 0.7006\n",
      "Epoch [9/20], Train Loss: 0.6759, Val Loss: 0.7088\n",
      "Epoch [10/20], Train Loss: 0.6700, Val Loss: 0.7027\n",
      "Epoch [11/20], Train Loss: 0.6729, Val Loss: 0.7043\n",
      "Epoch [12/20], Train Loss: 0.6706, Val Loss: 0.7045\n",
      "Epoch [13/20], Train Loss: 0.6744, Val Loss: 0.7097\n",
      "Epoch [14/20], Train Loss: 0.6672, Val Loss: 0.7075\n",
      "Epoch [15/20], Train Loss: 0.6710, Val Loss: 0.7013\n",
      "Epoch [16/20], Train Loss: 0.6620, Val Loss: 0.7130\n",
      "Epoch [17/20], Train Loss: 0.6646, Val Loss: 0.7144\n",
      "Epoch [18/20], Train Loss: 0.6721, Val Loss: 0.7110\n",
      "Epoch [19/20], Train Loss: 0.6646, Val Loss: 0.7048\n",
      "Epoch [20/20], Train Loss: 0.6605, Val Loss: 0.7013\n"
     ]
    }
   ],
   "source": [
    "model2.to(device)\n",
    "ops = np.array([])\n",
    "train_losses = []\n",
    "\n",
    "for epoch in range(num_epochs):\n",
    "    model2.train()\n",
    "    train_loss = 0.0\n",
    "    for inputs, targets in train_loader:\n",
    "        inputs, targets = inputs.to(device), targets.to(device)\n",
    "        optimizer.zero_grad()\n",
    "        outputs = model2(inputs).squeeze()\n",
    "        loss = criterion(outputs, targets.float())\n",
    "        loss.backward()\n",
    "        optimizer.step()\n",
    "        train_loss += loss.item()\n",
    "\n",
    "    train_loss /= len(train_loader)\n",
    "    train_losses.append(train_loss)\n",
    "\n",
    "    # Validation phase\n",
    "    model2.eval()\n",
    "    val_loss = 0.0\n",
    "    with torch.no_grad():\n",
    "        for inputs, targets in val_loader:\n",
    "            outputs = model2(inputs).squeeze()\n",
    "            loss = criterion(outputs, targets.float())\n",
    "            val_loss += loss.item()\n",
    "            ops = np.concatenate((ops, outputs.detach().cpu().numpy()), axis=None)\n",
    "\n",
    "    val_loss /= len(val_loader)\n",
    "\n",
    "    # Save model if it has the best validation loss\n",
    "    if val_loss < best_val_loss2:\n",
    "        best_val_loss2 = val_loss\n",
    "        torch.save(model2.state_dict(), best_model_path2)\n",
    "        print(f\"Epoch [{epoch+1}/{num_epochs}], New Best Val Loss: {val_loss:.4f} (Model Saved)\")\n",
    "\n",
    "    else:\n",
    "        print(f\"Epoch [{epoch+1}/{num_epochs}], Train Loss: {train_loss:.4f}, Val Loss: {val_loss:.4f}\")"
   ]
  },
  {
   "cell_type": "code",
   "execution_count": 32,
   "metadata": {
    "colab": {
     "base_uri": "https://localhost:8080/",
     "height": 427
    },
    "id": "VMUP3-f9JEbV",
    "outputId": "5f9a3a36-67fb-47f1-8628-c468fa54116a"
   },
   "outputs": [
    {
     "data": {
      "image/png": "[encoded data removed]",
      "text/plain": [
       "<Figure size 1000x400 with 2 Axes>"
      ]
     },
     "metadata": {},
     "output_type": "display_data"
    },
    {
     "name": "stdout",
     "output_type": "stream",
     "text": [
      "Shape of outputs concatenated: (3000,)\n"
     ]
    }
   ],
   "source": [
    "plt.figure(figsize=(10, 4))\n",
    "\n",
    "plt.subplot(1, 2, 1)\n",
    "plt.plot([i+1 for i in range(len(train_losses))], train_losses)\n",
    "plt.xlabel('Epochs')\n",
    "plt.ylabel('BinaryCrossEntropyLoss')\n",
    "plt.title('Training Loss Progression: Line Plot')\n",
    "\n",
    "plt.subplot(1, 2, 2)\n",
    "plt.stem([i+1 for i in range(len(train_losses))], train_losses)\n",
    "plt.xlabel('Epochs')\n",
    "plt.ylabel('BinaryCrossEntropyLoss')\n",
    "plt.title('Training Loss Progression: Stem Plot')\n",
    "\n",
    "plt.show()\n",
    "\n",
    "print('Shape of outputs concatenated:', ops.shape)"
   ]
  },
  {
   "cell_type": "code",
   "execution_count": 33,
   "metadata": {
    "id": "WYZEvvaXyaTl"
   },
   "outputs": [],
   "source": [
    "scheduler = torch.optim.lr_scheduler.StepLR(optimizer, step_size=10, gamma=0.1)\n",
    "# scheduler.step() in loop"
   ]
  },
  {
   "cell_type": "markdown",
   "metadata": {
    "id": "jNblyrWf9RNo"
   },
   "source": [
    "## Test Model"
   ]
  },
  {
   "cell_type": "markdown",
   "metadata": {
    "id": "_jxIct6L9th7"
   },
   "source": [
    "### Load Best Model from Saved Path"
   ]
  },
  {
   "cell_type": "code",
   "execution_count": 34,
   "metadata": {
    "colab": {
     "base_uri": "https://localhost:8080/"
    },
    "id": "Y_sww2sP9RY_",
    "outputId": "2f77502c-4151-4634-a9cf-a5290a894c25"
   },
   "outputs": [
    {
     "name": "stderr",
     "output_type": "stream",
     "text": [
      "<ipython-input-34-4ae2ef599980>:2: FutureWarning: You are using `torch.load` with `weights_only=False` (the current default value), which uses the default pickle module implicitly. It is possible to construct malicious pickle data which will execute arbitrary code during unpickling (See https://github.com/pytorch/pytorch/blob/main/SECURITY.md#untrusted-models for more details). In a future release, the default value for `weights_only` will be flipped to `True`. This limits the functions that could be executed during unpickling. Arbitrary objects will no longer be allowed to be loaded via this mode unless they are explicitly allowlisted by the user via `torch.serialization.add_safe_globals`. We recommend you start setting `weights_only=True` for any use case where you don't have full control of the loaded file. Please open an issue on GitHub for any issues related to this experimental feature.\n",
      "  best_model.load_state_dict(torch.load(best_model_path))\n"
     ]
    },
    {
     "data": {
      "text/plain": [
       "MLP(\n",
       "  (fc1): Linear(in_features=10, out_features=32, bias=True)\n",
       "  (relu): ReLU()\n",
       "  (dropout): Dropout(p=0.5, inplace=False)\n",
       "  (fc2): Linear(in_features=32, out_features=1, bias=True)\n",
       "  (sigmoid): Sigmoid()\n",
       ")"
      ]
     },
     "execution_count": 34,
     "metadata": {},
     "output_type": "execute_result"
    }
   ],
   "source": [
    "best_model = MLP(input_size, hidden_size=32, output_size=1, use_bias=True)\n",
    "best_model.load_state_dict(torch.load(best_model_path))\n",
    "best_model.eval()"
   ]
  },
  {
   "cell_type": "markdown",
   "metadata": {
    "id": "erRN96tH9zVK"
   },
   "source": [
    "### Testing Loop"
   ]
  },
  {
   "cell_type": "code",
   "execution_count": 35,
   "metadata": {
    "colab": {
     "base_uri": "https://localhost:8080/"
    },
    "id": "SO8eE_9a9Top",
    "outputId": "d56f0d73-83fb-4e6a-e21a-002e5b5ba599"
   },
   "outputs": [
    {
     "name": "stdout",
     "output_type": "stream",
     "text": [
      "\n",
      "Test Loss: 0.7032\n",
      "Test Accuracy: 54.67%\n"
     ]
    }
   ],
   "source": [
    "correct = 0\n",
    "total = 0\n",
    "test_loss = 0.0\n",
    "\n",
    "preds, labs = np.array([]), np.array([])\n",
    "\n",
    "with torch.no_grad():\n",
    "    for inputs, targets in test_loader:\n",
    "        outputs = best_model(inputs).squeeze()\n",
    "        predicted = (outputs >= 0.5).long()  # Convert probabilities to 0 or 1\n",
    "        correct += (predicted == targets).sum().item()\n",
    "        total += targets.size(0)\n",
    "\n",
    "        preds = np.concatenate((preds, predicted.detach().numpy()), axis=None)\n",
    "        labs = np.concatenate((labs, targets.detach().numpy()), axis=None)\n",
    "\n",
    "        loss = criterion(outputs, targets.float())\n",
    "        test_loss += loss.item()\n",
    "\n",
    "test_loss /= len(test_loader)\n",
    "accuracy = correct / total\n",
    "\n",
    "print(f\"\\nTest Loss: {test_loss:.4f}\")\n",
    "print(f\"Test Accuracy: {accuracy * 100:.2f}%\")"
   ]
  },
  {
   "cell_type": "code",
   "execution_count": 36,
   "metadata": {
    "colab": {
     "base_uri": "https://localhost:8080/",
     "height": 479
    },
    "id": "RgQBvwBz3JKC",
    "outputId": "4190021f-8cce-4379-e6cd-d9afb9cb90d9"
   },
   "outputs": [
    {
     "name": "stdout",
     "output_type": "stream",
     "text": [
      "F1 Score: 0.5526315789473685\n",
      "Confusion Matrix:\n",
      " [[40 33]\n",
      " [35 42]]\n"
     ]
    },
    {
     "data": {
      "image/png": "[encoded data removed]",
      "text/plain": [
       "<Figure size 600x400 with 2 Axes>"
      ]
     },
     "metadata": {},
     "output_type": "display_data"
    }
   ],
   "source": [
    "import seaborn as sns\n",
    "\n",
    "f1 = f1_score(labs, preds, average='binary')\n",
    "print(\"F1 Score:\", f1)\n",
    "\n",
    "# Compute the confusion matrix.\n",
    "cm = confusion_matrix(labs, preds)\n",
    "print(\"Confusion Matrix:\\n\", cm)\n",
    "\n",
    "# Plot the confusion matrix using seaborn's heatmap.\n",
    "plt.figure(figsize=(6, 4))\n",
    "sns.heatmap(cm, annot=True, fmt='d', cmap='Blues',\n",
    "            xticklabels=['Predicted 0', 'Predicted 1'],\n",
    "            yticklabels=['Actual 0', 'Actual 1'])\n",
    "plt.xlabel(\"Predicted Labels\")\n",
    "plt.ylabel(\"True Labels\")\n",
    "plt.title(\"Confusion Matrix\")\n",
    "plt.show()"
   ]
  },
  {
   "cell_type": "code",
   "execution_count": 36,
   "metadata": {
    "id": "Ejx5dQXBRlro"
   },
   "outputs": [],
   "source": []
  }
 ],
 "metadata": {
  "colab": {
   "provenance": []
  },
  "kernelspec": {
   "display_name": "Python 3 (ipykernel)",
   "language": "python",
   "name": "python3"
  },
  "language_info": {
   "codemirror_mode": {
    "name": "ipython",
    "version": 3
   },
   "file_extension": ".py",
   "mimetype": "text/x-python",
   "name": "python",
   "nbconvert_exporter": "python",
   "pygments_lexer": "ipython3",
   "version": "3.11.5"
  }
 },
 "nbformat": 4,
 "nbformat_minor": 4
}
